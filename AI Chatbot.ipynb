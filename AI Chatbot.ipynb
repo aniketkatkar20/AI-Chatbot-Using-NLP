{
 "cells": [
  {
   "cell_type": "code",
   "execution_count": 1,
   "id": "c236194a",
   "metadata": {},
   "outputs": [
    {
     "name": "stderr",
     "output_type": "stream",
     "text": [
      "[nltk_data] Downloading package punkt to\n",
      "[nltk_data]     C:\\Users\\ANIKET\\AppData\\Roaming\\nltk_data...\n",
      "[nltk_data]   Package punkt is already up-to-date!\n"
     ]
    },
    {
     "data": {
      "text/plain": [
       "True"
      ]
     },
     "execution_count": 1,
     "metadata": {},
     "output_type": "execute_result"
    }
   ],
   "source": [
    "import nltk\n",
    "nltk.download('punkt')"
   ]
  },
  {
   "cell_type": "code",
   "execution_count": 2,
   "id": "13ff4d17",
   "metadata": {},
   "outputs": [
    {
     "name": "stderr",
     "output_type": "stream",
     "text": [
      "[nltk_data] Downloading package wordnet to\n",
      "[nltk_data]     C:\\Users\\ANIKET\\AppData\\Roaming\\nltk_data...\n",
      "[nltk_data]   Package wordnet is already up-to-date!\n"
     ]
    },
    {
     "data": {
      "text/plain": [
       "True"
      ]
     },
     "execution_count": 2,
     "metadata": {},
     "output_type": "execute_result"
    }
   ],
   "source": [
    "import nltk\n",
    "nltk.download('wordnet')"
   ]
  },
  {
   "cell_type": "code",
   "execution_count": 3,
   "id": "244d930a",
   "metadata": {},
   "outputs": [],
   "source": [
    "import nltk\n",
    "import random\n",
    "import string\n",
    "import warnings\n",
    "warnings.filterwarnings('ignore')"
   ]
  },
  {
   "cell_type": "markdown",
   "id": "2c912393",
   "metadata": {},
   "source": [
    "# Reading The Corpse of Text"
   ]
  },
  {
   "cell_type": "code",
   "execution_count": 4,
   "id": "41b1ce1b",
   "metadata": {},
   "outputs": [],
   "source": [
    "f = open('data.txt', 'r', errors='ignore')\n",
    "raw = f.read()\n",
    "raw = raw.lower()"
   ]
  },
  {
   "cell_type": "code",
   "execution_count": 5,
   "id": "61b90dea",
   "metadata": {},
   "outputs": [],
   "source": [
    "sent_tokens = nltk.sent_tokenize(raw) #converts to list of scentences\n",
    "word_tokens = nltk.word_tokenize(raw) #converts to list of words"
   ]
  },
  {
   "cell_type": "markdown",
   "id": "cf0377cf",
   "metadata": {},
   "source": [
    "# After Tokenization"
   ]
  },
  {
   "cell_type": "code",
   "execution_count": 6,
   "id": "cb2f8f9d",
   "metadata": {},
   "outputs": [
    {
     "name": "stdout",
     "output_type": "stream",
     "text": [
      "['introduction to motadata aiops\\nwelcome to motadata aiops, your advanced solution for intelligent it operations.', 'motadata aiops is a powerful artificial intelligence for it operations platform designed to streamline and optimize your it infrastructure management, ensuring a seamless and efficient it environment.', 'motadata aiops is an all-in-one platform that combines the power of artificial intelligence (ai) and machine learning (ml) to provide you with deep insights into your it infrastructure.', 'it enables real-time monitoring, analysis, and proactive management of diverse it components, including networks, servers, applications, logs, flows, and more.']\n",
      "['introduction', 'to', 'motadata', 'aiops']\n"
     ]
    }
   ],
   "source": [
    "sentToken = sent_tokens[:4]\n",
    "print(sentToken)\n",
    "wordToken = word_tokens[:4]\n",
    "print(wordToken)"
   ]
  },
  {
   "cell_type": "markdown",
   "id": "2eed1ee0",
   "metadata": {},
   "source": [
    "# Text Pre-Processing Steps"
   ]
  },
  {
   "cell_type": "code",
   "execution_count": 14,
   "id": "b9f839d5",
   "metadata": {},
   "outputs": [],
   "source": [
    "lemmer = nltk.stem.WordNetLemmatizer()"
   ]
  },
  {
   "cell_type": "code",
   "execution_count": 8,
   "id": "698fe703",
   "metadata": {},
   "outputs": [],
   "source": [
    "def LemTokens(tokens):\n",
    "    return [lemmer.lemmatize(token) for token in tokens]\n",
    "remove_punct_dict = dict((ord(punct), None) for punct in string.punctuation)"
   ]
  },
  {
   "cell_type": "code",
   "execution_count": 9,
   "id": "eaa2da85",
   "metadata": {},
   "outputs": [],
   "source": [
    "def LemNormalize(text):\n",
    "    return LemTokens(nltk.word_tokenize(text.lower().translate(remove_punct_dict)))"
   ]
  },
  {
   "cell_type": "markdown",
   "id": "d752d36a",
   "metadata": {},
   "source": [
    "# Defining Greeting Functions"
   ]
  },
  {
   "cell_type": "code",
   "execution_count": 10,
   "id": "cc155504",
   "metadata": {},
   "outputs": [],
   "source": [
    "#Greetings\n",
    "GREETING_INPUTS = (\"hello\", \"hi\", \"greetings\", \"sup\", \"what's up\", \"hey\")\n",
    "GREETING_RESPONSES = [\"hi\", \"hey\", \"nods\", \"hi there\", \"hello\", \"I am glad! you are talking to me\"]"
   ]
  },
  {
   "cell_type": "code",
   "execution_count": 11,
   "id": "c02d4384",
   "metadata": {},
   "outputs": [],
   "source": [
    "def greeting(scentence):\n",
    "    \n",
    "    for word in scentence.split():\n",
    "        if word.lower() in GREETING_INPUTS:\n",
    "            return random.choice(GREETING_RESPONSES)\n",
    "        "
   ]
  },
  {
   "cell_type": "markdown",
   "id": "7bffc20a",
   "metadata": {},
   "source": [
    "# Response Geneartion Of Bot"
   ]
  },
  {
   "cell_type": "code",
   "execution_count": 12,
   "id": "0936da1e",
   "metadata": {},
   "outputs": [],
   "source": [
    "#Vectorizer\n",
    "\n",
    "from sklearn.feature_extraction.text import TfidfVectorizer\n",
    "from sklearn.metrics.pairwise import cosine_similarity"
   ]
  },
  {
   "cell_type": "code",
   "execution_count": 13,
   "id": "ff3fefa9",
   "metadata": {},
   "outputs": [
    {
     "name": "stdout",
     "output_type": "stream",
     "text": [
      "Hello, there my name is Tara. I will answer your queries. If you want to exit, type Bye!\n",
      "Tell me about motadata\n",
      "Tara:introduction to motadata aiops\n",
      "welcome to motadata aiops, your advanced solution for intelligent it operations.\n",
      "key features of motadata\n",
      "Tara:key features and capabilities\n",
      "metric monitoring\n",
      "keep a close eye on your network devices, servers, and applications with comprehensive metric monitoring.\n",
      "bye\n",
      "Tara: Bye! Have a great time!\n"
     ]
    }
   ],
   "source": [
    "def response(user_response):\n",
    "    chatbot_response = ''\n",
    "    sent_tokens.append(user_response)\n",
    "    TfidfVec = TfidfVectorizer(tokenizer=LemNormalize, stop_words=\"english\")\n",
    "    tfidf = TfidfVec.fit_transform(sent_tokens)\n",
    "    vals = cosine_similarity(tfidf[-1], tfidf)\n",
    "    idx = vals.argsort()[0][-2]\n",
    "    flat = vals.flatten()\n",
    "    flat.sort()\n",
    "    req_tfidf = flat[-2]\n",
    "    if(req_tfidf == 0):\n",
    "        chatbot_response = chatbot_response + \"I am sorry! I don't understand you\"\n",
    "        return chatbot_response\n",
    "    \n",
    "    else:\n",
    "        chatbot_response=chatbot_response+sent_tokens[idx]\n",
    "        return chatbot_response\n",
    "    \n",
    "\n",
    "if __name__ == \"__main__\":\n",
    "    flag = True\n",
    "    print(\"Hello, there my name is Tara. I will answer your queries. If you want to exit, type Bye!\")\n",
    "    while(flag==True):\n",
    "        user_response = input()\n",
    "        user_response = user_response.lower()\n",
    "        if(user_response!='bye'):\n",
    "            if user_response == 'thanks' or user_response == 'thank you':\n",
    "                flag = False\n",
    "                print(\"Tara: You're welcome!\")\n",
    "            else:\n",
    "                if(greeting(user_response)!=None):\n",
    "                    print(\"Tara:\" +greeting(user_response))\n",
    "                else:\n",
    "                    print(\"Tara:\", end='')\n",
    "                    print(response(user_response))\n",
    "                    sent_tokens.remove(user_response)\n",
    "        else:\n",
    "            flag = False\n",
    "            print(\"Tara: Bye! Have a great time!\" )"
   ]
  },
  {
   "cell_type": "code",
   "execution_count": null,
   "id": "ed918725",
   "metadata": {},
   "outputs": [],
   "source": []
  }
 ],
 "metadata": {
  "kernelspec": {
   "display_name": "Python 3 (ipykernel)",
   "language": "python",
   "name": "python3"
  },
  "language_info": {
   "codemirror_mode": {
    "name": "ipython",
    "version": 3
   },
   "file_extension": ".py",
   "mimetype": "text/x-python",
   "name": "python",
   "nbconvert_exporter": "python",
   "pygments_lexer": "ipython3",
   "version": "3.11.5"
  }
 },
 "nbformat": 4,
 "nbformat_minor": 5
}
